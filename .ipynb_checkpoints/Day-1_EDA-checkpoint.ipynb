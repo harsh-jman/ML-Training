{
 "cells": [
  {
   "cell_type": "code",
   "execution_count": 4,
   "id": "b2723cfd-1902-4462-bb25-a5db8aa99f5a",
   "metadata": {},
   "outputs": [
    {
     "name": "stdout",
     "output_type": "stream",
     "text": [
      "[ 5 10 15]\n",
      "[ 25 100 225]\n",
      "[1 2 3]\n",
      "[   5  100 3375]\n"
     ]
    }
   ],
   "source": [
    "# Python code to perform power operation\n",
    "# on NumPy array\n",
    "\n",
    "\n",
    "import numpy as np \n",
    "\n",
    "\n",
    "arr = np.array([5, 10, 15]) \n",
    "\n",
    "# print('First array is:') \n",
    "print(arr)\n",
    "\n",
    "# print('\\nApplying power function:') \n",
    "print(np.power(arr, 2))\n",
    "\n",
    "# print('\\nSecond array is:') \n",
    "arr1 = np.array([1, 2, 3]) \n",
    "print(arr1)\n",
    "\n",
    "# print('\\nApplying power function again:') \n",
    "print(np.power(arr, arr1))\n"
   ]
  },
  {
   "cell_type": "code",
   "execution_count": null,
   "id": "b34e3257-a65d-4821-938f-4cf73c0f79d6",
   "metadata": {},
   "outputs": [],
   "source": []
  }
 ],
 "metadata": {
  "kernelspec": {
   "display_name": "Python 3 (ipykernel)",
   "language": "python",
   "name": "python3"
  },
  "language_info": {
   "codemirror_mode": {
    "name": "ipython",
    "version": 3
   },
   "file_extension": ".py",
   "mimetype": "text/x-python",
   "name": "python",
   "nbconvert_exporter": "python",
   "pygments_lexer": "ipython3",
   "version": "3.10.6"
  }
 },
 "nbformat": 4,
 "nbformat_minor": 5
}
